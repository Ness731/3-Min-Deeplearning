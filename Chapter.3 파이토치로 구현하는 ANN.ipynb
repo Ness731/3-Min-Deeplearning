{
 "cells": [
  {
   "cell_type": "markdown",
   "id": "84a0be24",
   "metadata": {},
   "source": [
    "# Chapter 3. 파이토치로 구현하는 ANN\n",
    "----\n",
    "## 1) 텐서와 Autograd\n",
    "### __텐서(Tensor)__란 무엇인가?\n",
    "텐서란, 파이토치에서 다양한 수식을 계산하는 데 사용하는 가장 기본적인 자료구조이다.<br>\n",
    "텐서에는 차원(랭크)라는 개념이 있다.<br>\n",
    "- 랭크 0 : 스칼라\n",
    "- 랭크 1 : 벡터\n",
    "- 랭크 2 : 2차원 행렬\n",
    "- 랭크 3 이상 : 3차원 이상 행렬"
   ]
  },
  {
   "cell_type": "markdown",
   "id": "2fe2f302",
   "metadata": {},
   "source": [
    "### 텐서 정의하기"
   ]
  },
  {
   "cell_type": "code",
   "execution_count": 2,
   "id": "a21fb1b2",
   "metadata": {},
   "outputs": [],
   "source": [
    "import torch"
   ]
  },
  {
   "cell_type": "code",
   "execution_count": 16,
   "id": "b4baea06",
   "metadata": {},
   "outputs": [
    {
     "name": "stdout",
     "output_type": "stream",
     "text": [
      "tensor(1)\n"
     ]
    }
   ],
   "source": [
    "# 0차원 텐서 = 스칼라\n",
    "q = torch.tensor(1)\n",
    "print(q)"
   ]
  },
  {
   "cell_type": "code",
   "execution_count": 15,
   "id": "89810b0a",
   "metadata": {},
   "outputs": [
    {
     "name": "stdout",
     "output_type": "stream",
     "text": [
      "tensor([1, 2, 3])\n"
     ]
    }
   ],
   "source": [
    "# 1차원 텐서 = 벡터\n",
    "p = torch.tensor([1,2,3])\n",
    "print(p)"
   ]
  },
  {
   "cell_type": "code",
   "execution_count": 27,
   "id": "21633e8d",
   "metadata": {},
   "outputs": [
    {
     "name": "stdout",
     "output_type": "stream",
     "text": [
      "tensor([[1, 2, 3],\n",
      "        [4, 5, 6],\n",
      "        [7, 8, 9]])\n"
     ]
    }
   ],
   "source": [
    "# 2차원 텐서 = 2차원 행렬\n",
    "x = torch.tensor([[1,2,3],[4,5,6],[7,8,9]])\n",
    "print(x)"
   ]
  },
  {
   "cell_type": "code",
   "execution_count": 13,
   "id": "2780e185",
   "metadata": {},
   "outputs": [
    {
     "name": "stdout",
     "output_type": "stream",
     "text": [
      "tensor([[[1, 2, 3],\n",
      "         [7, 8, 9]],\n",
      "\n",
      "        [[1, 2, 3],\n",
      "         [7, 8, 9]],\n",
      "\n",
      "        [[1, 2, 3],\n",
      "         [7, 8, 9]]])\n"
     ]
    }
   ],
   "source": [
    "# 3차원 텐서 = 다차원 행렬\n",
    "y = torch.tensor([[[1,2,3],[7,8,9]],[[1,2,3],[7,8,9]],[[1,2,3],[7,8,9]]]) # 각 열의 요소 수가 다르면 에러 발생\n",
    "print(y)"
   ]
  },
  {
   "cell_type": "markdown",
   "id": "bac9ac2b",
   "metadata": {},
   "source": [
    "### 텐서 정보 확인, 수정하기"
   ]
  },
  {
   "cell_type": "code",
   "execution_count": 19,
   "id": "5839bf85",
   "metadata": {},
   "outputs": [],
   "source": [
    "def printTensor(t):\n",
    "    print(\"Size: \", t.size())\n",
    "    print(\"Shape: \", t.shape)\n",
    "    print(\"Dimension: \", t.ndimension())"
   ]
  },
  {
   "cell_type": "code",
   "execution_count": 20,
   "id": "78e6f29d",
   "metadata": {},
   "outputs": [
    {
     "name": "stdout",
     "output_type": "stream",
     "text": [
      "Size:  torch.Size([3, 2, 3])\n",
      "Shape:  torch.Size([3, 2, 3])\n",
      "Dimension:  3\n"
     ]
    }
   ],
   "source": [
    "printTensor(y)"
   ]
  },
  {
   "cell_type": "code",
   "execution_count": 21,
   "id": "402a8e5f",
   "metadata": {},
   "outputs": [
    {
     "name": "stdout",
     "output_type": "stream",
     "text": [
      "Size:  torch.Size([1, 3, 2, 3])\n",
      "Shape:  torch.Size([1, 3, 2, 3])\n",
      "Dimension:  4\n"
     ]
    }
   ],
   "source": [
    "# torch.unsqueeze(tensor, index) : i번째 자리에 차원값 1을 추가한다. 따라서 해당 텐서는 차원이 1 증가한다.\n",
    "modified_y = torch.unsqueeze(y, 0)\n",
    "printTensor(modified_y)"
   ]
  },
  {
   "cell_type": "code",
   "execution_count": 23,
   "id": "f63fa6ff",
   "metadata": {},
   "outputs": [
    {
     "name": "stdout",
     "output_type": "stream",
     "text": [
      "Size:  torch.Size([3, 2, 3])\n",
      "Shape:  torch.Size([3, 2, 3])\n",
      "Dimension:  3\n"
     ]
    }
   ],
   "source": [
    "# torch.squeeze(tesnsor) : 크기가 1인 랭크를 삭제한다. 1인 랭크가 없으면 변화 없음.\n",
    "modified_y = torch.squeeze(modified_y)\n",
    "printTensor(modified_y)"
   ]
  },
  {
   "cell_type": "code",
   "execution_count": 30,
   "id": "138b1b83",
   "metadata": {},
   "outputs": [
    {
     "name": "stdout",
     "output_type": "stream",
     "text": [
      "tensor([[1, 2, 3],\n",
      "        [4, 5, 6],\n",
      "        [7, 8, 9]])\n",
      "tensor([1, 2, 3, 4, 5, 6, 7, 8, 9])\n"
     ]
    }
   ],
   "source": [
    "# tensor.view(n) : 랭크 1의(1차원 벡터) [n]모양으로 바꾸는 함수. \n",
    "print(x);\n",
    "modified_x = x.view(9)\n",
    "print(modified_x)"
   ]
  },
  {
   "cell_type": "code",
   "execution_count": 31,
   "id": "7b9f2451",
   "metadata": {},
   "outputs": [
    {
     "name": "stdout",
     "output_type": "stream",
     "text": [
      "shape '[2, 4]' is invalid for input of size 9\n"
     ]
    }
   ],
   "source": [
    "# 이때, n은 반드시 요소의 개수와 일치해야 한다. 크거나 작으면 에러.\n",
    "try:\n",
    "    modified_x = x.view(2,4)\n",
    "except Exception as e:\n",
    "    print(e)"
   ]
  },
  {
   "cell_type": "markdown",
   "id": "4b0b916d",
   "metadata": {},
   "source": [
    "### 정리\n",
    "텐서를 수정하는 함수들은 기존에 존재하던 요소를 건들이지 않으면서 텐서의 모양만 수정한다.<br>\n",
    "따라서 기존 요소를 지우거나, 허용되지 않은 방법으로 요소를 늘린다면 에러가 발생한다.\n",
    "- torch.squeeze(tensor, index) : i번째 자리에 크기가 1인 차원을 하나 추가한다.\n",
    "- torch.unsqueeze(tensor) : 크기가 1인 차원을 삭제한다.\n",
    "- tensor.view(num of element) : 다차원 행렬을 1차원 벡터로 변환한다. 파라미터는 반드시 요소의 개수와 일치해야 한다."
   ]
  },
  {
   "cell_type": "code",
   "execution_count": null,
   "id": "d045f35d",
   "metadata": {},
   "outputs": [],
   "source": []
  }
 ],
 "metadata": {
  "kernelspec": {
   "display_name": "Python 3",
   "language": "python",
   "name": "python3"
  },
  "language_info": {
   "codemirror_mode": {
    "name": "ipython",
    "version": 3
   },
   "file_extension": ".py",
   "mimetype": "text/x-python",
   "name": "python",
   "nbconvert_exporter": "python",
   "pygments_lexer": "ipython3",
   "version": "3.8.8"
  }
 },
 "nbformat": 4,
 "nbformat_minor": 5
}
