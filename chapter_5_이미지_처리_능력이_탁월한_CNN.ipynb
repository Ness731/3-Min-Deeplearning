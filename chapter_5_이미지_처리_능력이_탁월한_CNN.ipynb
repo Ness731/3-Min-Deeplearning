{
  "nbformat": 4,
  "nbformat_minor": 0,
  "metadata": {
    "colab": {
      "name": "chapter.5 이미지 처리 능력이 탁월한 CNN",
      "provenance": [],
      "collapsed_sections": [],
      "authorship_tag": "ABX9TyNlBe+4gFkckcR22bk2i79f",
      "include_colab_link": true
    },
    "kernelspec": {
      "name": "python3",
      "display_name": "Python 3"
    },
    "language_info": {
      "name": "python"
    }
  },
  "cells": [
    {
      "cell_type": "markdown",
      "metadata": {
        "id": "view-in-github",
        "colab_type": "text"
      },
      "source": [
        "<a href=\"https://colab.research.google.com/github/Ness731/3-Min-Deeplearning/blob/main/chapter_5_%EC%9D%B4%EB%AF%B8%EC%A7%80_%EC%B2%98%EB%A6%AC_%EB%8A%A5%EB%A0%A5%EC%9D%B4_%ED%83%81%EC%9B%94%ED%95%9C_CNN.ipynb\" target=\"_parent\"><img src=\"https://colab.research.google.com/assets/colab-badge.svg\" alt=\"Open In Colab\"/></a>"
      ]
    },
    {
      "cell_type": "markdown",
      "source": [
        "## Chapter.5 이미지 처리 능력이 탁월한 CNN"
      ],
      "metadata": {
        "id": "5Q8S7dibCd-j"
      }
    },
    {
      "cell_type": "markdown",
      "source": [
        "### __CNN (Convolutional neural network)__\n",
        "- __CNN이란?__<br>\n",
        "CNN은 이미지나 비디오 같은 영상 인식에 특화된 설계로, 병렬 처리가 쉬워서 대규모 서비스에 적용할 수 있다.\n",
        "\n",
        "- __CNN을 사용하는 이유는?__<br>\n",
        "일반적인 인공 신경망은 다양한 형태의 입력에 대한 확장성이 떨어진다. 또한, 앞서 배운 torchvision이 transforms 도구를 사용하여 학습 데이터를 변형시키는 방식은 처리해야 하는 데이터의 개수가 매우 커지므로, 모든 경우의 수를 다 고려하여 학습 데이터에 반영하는 것은 불가능하다.\n",
        "\n",
        "- __CNN의 원리__<br>\n",
        "사람은 이미지를 보는 순간 이미지 속의 계층적인 특성을 바로 인식하며, 이러한 특징들을 모아 사물을 인식하는 것이다. 이러한 원리를 그대로 적용한 것이 CNN으로, 모델이 사물을 계층적으로 인식할 수 있도록 단계마다 이미지의 특징을 추출한다. 특징을 추출할 때에는 __'필터(filter)'__라는 도구를 사용한다.<br>\n",
        "또한, 필터를 적용할 때 이미지 왼쪽 위에서 오른쪽 밑까지 밀어가며 곱하고 더하는 작업을 수행하며, 이러한 작업을 __'컨볼루션(convolution)'__이라고 한다. 컨볼루션 작업을 통해 이미지의 특징을 추출한 후에는 중요한 특징만을 걸러내는 작업이 필요하며, 이를 __'풀링(pooling)'__이라고 한다. 풀링 작업에서는 덜 중요한 특징을 버리기 때문에, 결과 데이터는 __차원이 감소__하게 된다.\n",
        "  - `filter` : 이미지의 특징을 추출하는 도구\n",
        "  - `convolution` : 필터를 적용할 때 수행하는 행렬 연산\n",
        "  - `pooling` : 컨볼루션 후에 중요한 특징만을 추출하는 작업\n",
        "\n",
        "> 풀링 또한 컨볼루션 연산의 일종이다. 풀링은 필터가 지나갈 때마다 픽셀을 묶어서 __평균(average pooling)__이나 __최댓값(max pooling)__을 가져오는 간단한 연산으로 이루어진다."
      ],
      "metadata": {
        "id": "KpU0wzYKCyog"
      }
    },
    {
      "cell_type": "markdown",
      "source": [
        "### __Convolution calculation__\n",
        "Convolution을 하는 도구가 바로 __커널(kernel)__ 또는 필터(filter)이다. 커널은 데이터로부터 어떤 성질을 뽑아낼지 결정한다.\n",
        "1. 이미지를 작은 조각으로 쪼갠다.\n",
        "2. 커널(또는 필터) 기능을 하는 작은 신경망에 적용한다.\n",
        "3. 커널을 통과한 결과를 모아 __특징 맵(feature map)__을 생성한다.\n",
        "> 이때, 특징맵의 크기가 크면 학습이 어렵고 과적합의 위험이 증가한다.\n",
        "\n",
        "- __커널을 적용하기 전 입력__\n",
        "  - 원본 이미지 크기\n",
        "  - 결과물 이미지 크기\n",
        "  - 커널 크기\n",
        "  - `stride` : 커널이 얼만큼의 간격으로 움직일지(stride가 1인 경우 unit stride라고도 한다)\n",
        "  - `zero padding` : 이미지의 외부에 얼마나 많은 pixel을 0으로 채워넣을 것인지 (실제 이미지보다 더 큰 이미지를 고려할 때 사용한다)\n",
        "    - half padding : 입력 이미지 크기와 출력 이미지 크기가 동일하도록 패딩 처리\n",
        "    - full padding : 패딩을 최대로 적용하는 것. 최소 1개의 픽셀이라도 커널에 걸리도록 padding을 주면 된다.\n",
        "\n",
        "- __결과물 이미지 크기__<br>\n",
        "= [(원본 이미지 크기 + 2 * 제로 패딩 - 커널 크기) / 스트라이드] + 1<br>\n",
        "![image.png](data:image/png;base64,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)"
      ],
      "metadata": {
        "id": "LkyKl8kYHSr2"
      }
    },
    {
      "cell_type": "code",
      "source": [
        "# 1. 라이브러리 import\n",
        "import torch\n",
        "import torch.nn as nn\n",
        "import torch.optim as optim\n",
        "import torch.nn.functional as F\n",
        "import torchvision # 데이터를 불러오면서 전처리하기 위한 라이브러리\n",
        "from torchvision import transforms, datasets\n",
        "\n",
        "import matplotlib.pyplot as plt # 데이터 시각화\n",
        "import numpy as np # 행렬연산"
      ],
      "metadata": {
        "id": "EWgFFL74Ch8T"
      },
      "execution_count": 10,
      "outputs": []
    },
    {
      "cell_type": "code",
      "source": [
        "USE_CUDA = torch.cuda.is_available()\n",
        "DEVICE = torch.device(\"cuda\" if USE_CUDA else \"cpu\")"
      ],
      "metadata": {
        "id": "s8l96SA8yQMN"
      },
      "execution_count": 11,
      "outputs": []
    },
    {
      "cell_type": "code",
      "source": [
        "EPOCHS = 40\n",
        "BATCH_SIZE = 64"
      ],
      "metadata": {
        "id": "glmm-qY7ybkS"
      },
      "execution_count": 12,
      "outputs": []
    },
    {
      "cell_type": "code",
      "source": [
        "train_loader = torch.utils.data.DataLoader(\n",
        "    datasets.FashionMNIST('./.data', train=True, download=True, transform=transforms.Compose([\n",
        "      transforms.ToTensor(), transforms.Normalize((0.1307,), (0.3081))\n",
        "    ])),\n",
        "    batch_size = BATCH_SIZE, shuffle=True\n",
        ")\n",
        "test_loader = torch.utils.data.DataLoader(\n",
        "    datasets.FashionMNIST('./.data', train=False, transform=transforms.Compose([\n",
        "      transforms.ToTensor(), transforms.Normalize((0.1307,), (0.3081))\n",
        "    ])),\n",
        "    batch_size = BATCH_SIZE, shuffle=True\n",
        ")"
      ],
      "metadata": {
        "id": "DEkB8zJ6yjS1"
      },
      "execution_count": 13,
      "outputs": []
    },
    {
      "cell_type": "code",
      "source": [
        "def imshow(img):\n",
        "    img = img / 2 + 0.5     # unnormalize\n",
        "    npimg = img.numpy()\n",
        "    plt.imshow(np.transpose(npimg, (1, 2, 0)))\n",
        "    plt.show()\n",
        "\n",
        "\n",
        "# 학습용 이미지를 무작위로 가져오기\n",
        "dataiter = iter(train_loader)\n",
        "images, labels = dataiter.next()\n",
        "\n",
        "print(images.shape)\n",
        "print(labels.shape)\n",
        "\n",
        "# 이미지 보여주기\n",
        "imshow(torchvision.utils.make_grid(images))"
      ],
      "metadata": {
        "colab": {
          "base_uri": "https://localhost:8080/",
          "height": 324
        },
        "id": "W95mr3RQ75BY",
        "outputId": "556301ea-42be-4f44-adc0-d19f1896982d"
      },
      "execution_count": 14,
      "outputs": [
        {
          "output_type": "stream",
          "name": "stderr",
          "text": [
            "Clipping input data to the valid range for imshow with RGB data ([0..1] for floats or [0..255] for integers).\n"
          ]
        },
        {
          "output_type": "stream",
          "name": "stdout",
          "text": [
            "torch.Size([64, 1, 28, 28])\n",
            "torch.Size([64])\n"
          ]
        },
        {
          "output_type": "display_data",
          "data": {
            "text/plain": [
              "<Figure size 432x288 with 1 Axes>"
            ],
            "image/png": "[encoded data removed]"
          },
          "metadata": {
            "needs_background": "light"
          }
        }
      ]
    },
    {
      "cell_type": "markdown",
      "source": [
        "- __nn.Conv2d()__ : 컨볼루션 레이어.\n",
        "  - 첫 번째 파라미터 : 입력 채널 수 (숫자 하나만 입력시 정사각형으로 간주한다.)\n",
        "  - 두 번째 파라미터 : 출력 채널 수\n",
        "- __nn.Dropout2d()__ : 드롭아웃 인스턴스"
      ],
      "metadata": {
        "id": "r5qywHTb5NV3"
      }
    },
    {
      "cell_type": "code",
      "source": [
        "class CNN(nn.Module):\n",
        "  def __init__(self):\n",
        "    # 컨볼루션 계층\n",
        "    super(CNN, self).__init__()\n",
        "    self.conv1 = nn.Conv2d(1, 10, kernel_size = 5) # fasion MNIST 데이터는 흑백이므로 입력 채널이 1이다.\n",
        "    self.conv2 = nn.Conv2d(10, 20, kernel_size = 5) # 첫 번째 Conv를 통과한 결과 데이터는 채널이 10이므로, 입력 채널의 크기는 10.\n",
        "    self.drop = nn.Dropout2d()\n",
        "\n",
        "    # 일반 신경망\n",
        "    self.fc1 = nn.Linear(320, 50)\n",
        "    self.fc2 = nn.Linear(50, 10) # 보편적으로 레이어를 거칠수록 차원 수를 줄여나간다.\n",
        "\n",
        "  def forward(self, x):\n",
        "    # 1. 컨볼루션 계층 통과\n",
        "    x = F.relu(F.max_pool2d(self.conv1(x), 2)) # 커널 사이즈가 2인 풀링\n",
        "    x = F.relu(F.max_pool2d(self.conv2(x), 2))\n",
        "    \n",
        "    # 2. 데이터 차원 축소\n",
        "    x = x.view(-1, 320)\n",
        "\n",
        "    # 3. 신경망 통과\n",
        "    x = F.relu(self.fc1(x))\n",
        "    x = self.drop(x)\n",
        "    x = self.fc2(x)\n",
        "    return x"
      ],
      "metadata": {
        "id": "-RMYx4jC4ZgF"
      },
      "execution_count": 15,
      "outputs": []
    },
    {
      "cell_type": "code",
      "source": [
        "model = CNN().to(DEVICE)\n",
        "optimizer = optim.SGD(model.parameters(), lr=0.01, momentum = 0.5)"
      ],
      "metadata": {
        "id": "u0hAKatv9nKy"
      },
      "execution_count": 16,
      "outputs": []
    },
    {
      "cell_type": "code",
      "source": [
        "def train(model, train_loader, optimizer, epoch):\n",
        "  model.train()\n",
        "  for batch_idx, (data, target) in enumerate(train_loader):\n",
        "    data, target = data.to(DEVICE), target.to(DEVICE)\n",
        "    optimizer.zero_grad()\n",
        "    output = model(data)\n",
        "    loss = F.cross_entropy(output, target)\n",
        "    loss.backward()\n",
        "    optimizer.step()\n",
        "\n",
        "    if batch_idx % 200 == 0: # 일정한 주기로 결과 출력\n",
        "      print('Train Epoch: {} [{}/{} ({:.0f}%)]\\tLoss:{:.6f}'.format(epoch, batch_idx * len(data),\n",
        "                                                                    len(train_loader.dataset),\n",
        "                                                                    100. * batch_idx / len(train_loader),\n",
        "                                                                    loss.item()))"
      ],
      "metadata": {
        "id": "wrZxDrOp9zo_"
      },
      "execution_count": 17,
      "outputs": []
    },
    {
      "cell_type": "code",
      "source": [
        "def evaluate(model, test_loader):\n",
        "    model.eval()\n",
        "    test_loss = 0\n",
        "    correct = 0\n",
        "    with torch.no_grad():\n",
        "        for data, target in test_loader:\n",
        "            data, target = data.to(DEVICE), target.to(DEVICE)\n",
        "            output = model(data)\n",
        "\n",
        "            # 배치 오차를 합산\n",
        "            test_loss += F.cross_entropy(output, target,\n",
        "                                         reduction='sum').item()\n",
        "\n",
        "            # 가장 높은 값을 가진 인덱스가 바로 예측값\n",
        "            pred = output.max(1, keepdim=True)[1]\n",
        "            correct += pred.eq(target.view_as(pred)).sum().item()\n",
        "\n",
        "    test_loss /= len(test_loader.dataset)\n",
        "    test_accuracy = 100. * correct / len(test_loader.dataset)\n",
        "    return test_loss, test_accuracy"
      ],
      "metadata": {
        "id": "DUSCgteb_Lhv"
      },
      "execution_count": 18,
      "outputs": []
    },
    {
      "cell_type": "code",
      "source": [
        "for epoch in range(1, EPOCHS + 1):\n",
        "    train(model, train_loader, optimizer, epoch)\n",
        "    test_loss, test_accuracy = evaluate(model, test_loader)\n",
        "    \n",
        "    print('[{}] Test Loss: {:.4f}, Accuracy: {:.2f}%'.format(\n",
        "          epoch, test_loss, test_accuracy))"
      ],
      "metadata": {
        "colab": {
          "base_uri": "https://localhost:8080/"
        },
        "id": "gh2z632F_4pf",
        "outputId": "f9a1e771-9d4b-49a0-fd49-fa9f53bb8324"
      },
      "execution_count": 19,
      "outputs": [
        {
          "output_type": "stream",
          "name": "stderr",
          "text": [
            "/usr/local/lib/python3.7/dist-packages/torch/nn/functional.py:1320: UserWarning: dropout2d: Received a 2-D input to dropout2d, which is deprecated and will result in an error in a future release. To retain the behavior and silence this warning, please use dropout instead. Note that dropout2d exists to provide channel-wise dropout on inputs with 2 spatial dimensions, a channel dimension, and an optional batch dimension (i.e. 3D or 4D inputs).\n",
            "  warnings.warn(warn_msg)\n"
          ]
        },
        {
          "output_type": "stream",
          "name": "stdout",
          "text": [
            "Train Epoch: 1 [0/60000 (0%)]\tLoss:2.364583\n",
            "Train Epoch: 1 [12800/60000 (21%)]\tLoss:1.608242\n",
            "Train Epoch: 1 [25600/60000 (43%)]\tLoss:1.805943\n",
            "Train Epoch: 1 [38400/60000 (64%)]\tLoss:1.500938\n",
            "Train Epoch: 1 [51200/60000 (85%)]\tLoss:1.433299\n",
            "[1] Test Loss: 0.7856, Accuracy: 76.99%\n",
            "Train Epoch: 2 [0/60000 (0%)]\tLoss:1.626857\n",
            "Train Epoch: 2 [12800/60000 (21%)]\tLoss:1.686485\n",
            "Train Epoch: 2 [25600/60000 (43%)]\tLoss:1.444466\n",
            "Train Epoch: 2 [38400/60000 (64%)]\tLoss:1.478913\n",
            "Train Epoch: 2 [51200/60000 (85%)]\tLoss:1.220752\n",
            "[2] Test Loss: 0.6678, Accuracy: 81.38%\n",
            "Train Epoch: 3 [0/60000 (0%)]\tLoss:1.326862\n",
            "Train Epoch: 3 [12800/60000 (21%)]\tLoss:1.138386\n",
            "Train Epoch: 3 [25600/60000 (43%)]\tLoss:1.472464\n",
            "Train Epoch: 3 [38400/60000 (64%)]\tLoss:1.375701\n",
            "Train Epoch: 3 [51200/60000 (85%)]\tLoss:1.340340\n",
            "[3] Test Loss: 0.5873, Accuracy: 82.46%\n",
            "Train Epoch: 4 [0/60000 (0%)]\tLoss:1.436695\n",
            "Train Epoch: 4 [12800/60000 (21%)]\tLoss:1.153389\n",
            "Train Epoch: 4 [25600/60000 (43%)]\tLoss:1.138117\n",
            "Train Epoch: 4 [38400/60000 (64%)]\tLoss:1.348714\n",
            "Train Epoch: 4 [51200/60000 (85%)]\tLoss:1.463267\n",
            "[4] Test Loss: 0.5616, Accuracy: 84.68%\n",
            "Train Epoch: 5 [0/60000 (0%)]\tLoss:1.377026\n",
            "Train Epoch: 5 [12800/60000 (21%)]\tLoss:1.200976\n",
            "Train Epoch: 5 [25600/60000 (43%)]\tLoss:1.343702\n",
            "Train Epoch: 5 [38400/60000 (64%)]\tLoss:1.272605\n",
            "Train Epoch: 5 [51200/60000 (85%)]\tLoss:1.514712\n",
            "[5] Test Loss: 0.5436, Accuracy: 84.16%\n",
            "Train Epoch: 6 [0/60000 (0%)]\tLoss:1.084520\n",
            "Train Epoch: 6 [12800/60000 (21%)]\tLoss:1.649172\n",
            "Train Epoch: 6 [25600/60000 (43%)]\tLoss:1.169864\n",
            "Train Epoch: 6 [38400/60000 (64%)]\tLoss:1.342348\n",
            "Train Epoch: 6 [51200/60000 (85%)]\tLoss:1.481289\n",
            "[6] Test Loss: 0.5159, Accuracy: 85.54%\n",
            "Train Epoch: 7 [0/60000 (0%)]\tLoss:1.323137\n",
            "Train Epoch: 7 [12800/60000 (21%)]\tLoss:1.385795\n",
            "Train Epoch: 7 [25600/60000 (43%)]\tLoss:1.415615\n",
            "Train Epoch: 7 [38400/60000 (64%)]\tLoss:1.296586\n",
            "Train Epoch: 7 [51200/60000 (85%)]\tLoss:1.332585\n",
            "[7] Test Loss: 0.4891, Accuracy: 86.42%\n",
            "Train Epoch: 8 [0/60000 (0%)]\tLoss:1.228703\n",
            "Train Epoch: 8 [12800/60000 (21%)]\tLoss:1.326293\n",
            "Train Epoch: 8 [25600/60000 (43%)]\tLoss:1.204190\n",
            "Train Epoch: 8 [38400/60000 (64%)]\tLoss:1.555073\n",
            "Train Epoch: 8 [51200/60000 (85%)]\tLoss:1.479224\n",
            "[8] Test Loss: 0.4749, Accuracy: 87.09%\n",
            "Train Epoch: 9 [0/60000 (0%)]\tLoss:1.186360\n",
            "Train Epoch: 9 [12800/60000 (21%)]\tLoss:1.285446\n",
            "Train Epoch: 9 [25600/60000 (43%)]\tLoss:1.258352\n",
            "Train Epoch: 9 [38400/60000 (64%)]\tLoss:1.353046\n",
            "Train Epoch: 9 [51200/60000 (85%)]\tLoss:1.414857\n",
            "[9] Test Loss: 0.4635, Accuracy: 86.85%\n",
            "Train Epoch: 10 [0/60000 (0%)]\tLoss:1.253859\n",
            "Train Epoch: 10 [12800/60000 (21%)]\tLoss:1.334377\n",
            "Train Epoch: 10 [25600/60000 (43%)]\tLoss:1.370328\n",
            "Train Epoch: 10 [38400/60000 (64%)]\tLoss:1.304280\n",
            "Train Epoch: 10 [51200/60000 (85%)]\tLoss:1.366006\n",
            "[10] Test Loss: 0.4345, Accuracy: 88.26%\n",
            "Train Epoch: 11 [0/60000 (0%)]\tLoss:1.143755\n",
            "Train Epoch: 11 [12800/60000 (21%)]\tLoss:1.264027\n",
            "Train Epoch: 11 [25600/60000 (43%)]\tLoss:1.276588\n",
            "Train Epoch: 11 [38400/60000 (64%)]\tLoss:1.334405\n",
            "Train Epoch: 11 [51200/60000 (85%)]\tLoss:1.633024\n",
            "[11] Test Loss: 0.4331, Accuracy: 87.70%\n",
            "Train Epoch: 12 [0/60000 (0%)]\tLoss:1.219962\n",
            "Train Epoch: 12 [12800/60000 (21%)]\tLoss:1.236132\n",
            "Train Epoch: 12 [25600/60000 (43%)]\tLoss:1.277089\n",
            "Train Epoch: 12 [38400/60000 (64%)]\tLoss:1.227375\n",
            "Train Epoch: 12 [51200/60000 (85%)]\tLoss:1.372836\n",
            "[12] Test Loss: 0.4332, Accuracy: 88.06%\n",
            "Train Epoch: 13 [0/60000 (0%)]\tLoss:1.314496\n",
            "Train Epoch: 13 [12800/60000 (21%)]\tLoss:1.271941\n",
            "Train Epoch: 13 [25600/60000 (43%)]\tLoss:1.156463\n",
            "Train Epoch: 13 [38400/60000 (64%)]\tLoss:1.418923\n",
            "Train Epoch: 13 [51200/60000 (85%)]\tLoss:1.600380\n",
            "[13] Test Loss: 0.4193, Accuracy: 87.90%\n",
            "Train Epoch: 14 [0/60000 (0%)]\tLoss:1.270323\n",
            "Train Epoch: 14 [12800/60000 (21%)]\tLoss:1.316921\n",
            "Train Epoch: 14 [25600/60000 (43%)]\tLoss:1.318952\n",
            "Train Epoch: 14 [38400/60000 (64%)]\tLoss:1.221829\n",
            "Train Epoch: 14 [51200/60000 (85%)]\tLoss:1.224353\n",
            "[14] Test Loss: 0.4159, Accuracy: 87.71%\n",
            "Train Epoch: 15 [0/60000 (0%)]\tLoss:1.129928\n",
            "Train Epoch: 15 [12800/60000 (21%)]\tLoss:1.199216\n",
            "Train Epoch: 15 [25600/60000 (43%)]\tLoss:1.317779\n",
            "Train Epoch: 15 [38400/60000 (64%)]\tLoss:1.533634\n",
            "Train Epoch: 15 [51200/60000 (85%)]\tLoss:1.090360\n",
            "[15] Test Loss: 0.3953, Accuracy: 89.10%\n",
            "Train Epoch: 16 [0/60000 (0%)]\tLoss:1.303957\n",
            "Train Epoch: 16 [12800/60000 (21%)]\tLoss:0.862692\n",
            "Train Epoch: 16 [25600/60000 (43%)]\tLoss:1.377713\n",
            "Train Epoch: 16 [38400/60000 (64%)]\tLoss:1.500001\n",
            "Train Epoch: 16 [51200/60000 (85%)]\tLoss:1.163162\n",
            "[16] Test Loss: 0.4172, Accuracy: 88.83%\n",
            "Train Epoch: 17 [0/60000 (0%)]\tLoss:1.412332\n",
            "Train Epoch: 17 [12800/60000 (21%)]\tLoss:1.366981\n",
            "Train Epoch: 17 [25600/60000 (43%)]\tLoss:1.281847\n",
            "Train Epoch: 17 [38400/60000 (64%)]\tLoss:1.136103\n",
            "Train Epoch: 17 [51200/60000 (85%)]\tLoss:1.174579\n",
            "[17] Test Loss: 0.4057, Accuracy: 88.44%\n",
            "Train Epoch: 18 [0/60000 (0%)]\tLoss:1.428836\n",
            "Train Epoch: 18 [12800/60000 (21%)]\tLoss:1.237829\n",
            "Train Epoch: 18 [25600/60000 (43%)]\tLoss:1.091272\n",
            "Train Epoch: 18 [38400/60000 (64%)]\tLoss:1.149269\n",
            "Train Epoch: 18 [51200/60000 (85%)]\tLoss:1.178853\n",
            "[18] Test Loss: 0.3839, Accuracy: 89.64%\n",
            "Train Epoch: 19 [0/60000 (0%)]\tLoss:1.389407\n",
            "Train Epoch: 19 [12800/60000 (21%)]\tLoss:1.197454\n",
            "Train Epoch: 19 [25600/60000 (43%)]\tLoss:1.207325\n",
            "Train Epoch: 19 [38400/60000 (64%)]\tLoss:1.468949\n",
            "Train Epoch: 19 [51200/60000 (85%)]\tLoss:0.943519\n",
            "[19] Test Loss: 0.3719, Accuracy: 89.42%\n",
            "Train Epoch: 20 [0/60000 (0%)]\tLoss:1.046215\n",
            "Train Epoch: 20 [12800/60000 (21%)]\tLoss:1.194006\n",
            "Train Epoch: 20 [25600/60000 (43%)]\tLoss:1.052322\n",
            "Train Epoch: 20 [38400/60000 (64%)]\tLoss:1.432578\n",
            "Train Epoch: 20 [51200/60000 (85%)]\tLoss:1.248659\n",
            "[20] Test Loss: 0.3768, Accuracy: 89.48%\n",
            "Train Epoch: 21 [0/60000 (0%)]\tLoss:1.577364\n",
            "Train Epoch: 21 [12800/60000 (21%)]\tLoss:1.619444\n",
            "Train Epoch: 21 [25600/60000 (43%)]\tLoss:1.288407\n",
            "Train Epoch: 21 [38400/60000 (64%)]\tLoss:1.240162\n",
            "Train Epoch: 21 [51200/60000 (85%)]\tLoss:1.290244\n",
            "[21] Test Loss: 0.3828, Accuracy: 88.85%\n",
            "Train Epoch: 22 [0/60000 (0%)]\tLoss:1.322553\n",
            "Train Epoch: 22 [12800/60000 (21%)]\tLoss:1.337289\n",
            "Train Epoch: 22 [25600/60000 (43%)]\tLoss:1.360553\n",
            "Train Epoch: 22 [38400/60000 (64%)]\tLoss:1.159535\n",
            "Train Epoch: 22 [51200/60000 (85%)]\tLoss:1.395852\n",
            "[22] Test Loss: 0.3671, Accuracy: 89.72%\n",
            "Train Epoch: 23 [0/60000 (0%)]\tLoss:1.389374\n",
            "Train Epoch: 23 [12800/60000 (21%)]\tLoss:1.588796\n",
            "Train Epoch: 23 [25600/60000 (43%)]\tLoss:1.216203\n",
            "Train Epoch: 23 [38400/60000 (64%)]\tLoss:1.123797\n",
            "Train Epoch: 23 [51200/60000 (85%)]\tLoss:1.248601\n",
            "[23] Test Loss: 0.3655, Accuracy: 89.57%\n",
            "Train Epoch: 24 [0/60000 (0%)]\tLoss:1.316291\n",
            "Train Epoch: 24 [12800/60000 (21%)]\tLoss:1.344550\n",
            "Train Epoch: 24 [25600/60000 (43%)]\tLoss:1.315195\n",
            "Train Epoch: 24 [38400/60000 (64%)]\tLoss:1.204183\n",
            "Train Epoch: 24 [51200/60000 (85%)]\tLoss:0.931111\n",
            "[24] Test Loss: 0.3732, Accuracy: 89.12%\n",
            "Train Epoch: 25 [0/60000 (0%)]\tLoss:1.217140\n",
            "Train Epoch: 25 [12800/60000 (21%)]\tLoss:0.915938\n",
            "Train Epoch: 25 [25600/60000 (43%)]\tLoss:1.166552\n",
            "Train Epoch: 25 [38400/60000 (64%)]\tLoss:1.197757\n",
            "Train Epoch: 25 [51200/60000 (85%)]\tLoss:0.901268\n",
            "[25] Test Loss: 0.3570, Accuracy: 89.59%\n",
            "Train Epoch: 26 [0/60000 (0%)]\tLoss:1.672861\n",
            "Train Epoch: 26 [12800/60000 (21%)]\tLoss:1.261647\n",
            "Train Epoch: 26 [25600/60000 (43%)]\tLoss:1.052623\n",
            "Train Epoch: 26 [38400/60000 (64%)]\tLoss:1.349677\n",
            "Train Epoch: 26 [51200/60000 (85%)]\tLoss:1.202804\n",
            "[26] Test Loss: 0.3735, Accuracy: 89.27%\n",
            "Train Epoch: 27 [0/60000 (0%)]\tLoss:1.398054\n",
            "Train Epoch: 27 [12800/60000 (21%)]\tLoss:1.157003\n",
            "Train Epoch: 27 [25600/60000 (43%)]\tLoss:1.499225\n",
            "Train Epoch: 27 [38400/60000 (64%)]\tLoss:1.197183\n",
            "Train Epoch: 27 [51200/60000 (85%)]\tLoss:1.225257\n",
            "[27] Test Loss: 0.3512, Accuracy: 89.69%\n",
            "Train Epoch: 28 [0/60000 (0%)]\tLoss:0.819035\n",
            "Train Epoch: 28 [12800/60000 (21%)]\tLoss:1.287949\n",
            "Train Epoch: 28 [25600/60000 (43%)]\tLoss:1.303735\n",
            "Train Epoch: 28 [38400/60000 (64%)]\tLoss:1.180735\n",
            "Train Epoch: 28 [51200/60000 (85%)]\tLoss:1.311507\n",
            "[28] Test Loss: 0.3455, Accuracy: 90.09%\n",
            "Train Epoch: 29 [0/60000 (0%)]\tLoss:1.421106\n",
            "Train Epoch: 29 [12800/60000 (21%)]\tLoss:1.124075\n",
            "Train Epoch: 29 [25600/60000 (43%)]\tLoss:1.234936\n",
            "Train Epoch: 29 [38400/60000 (64%)]\tLoss:1.393943\n",
            "Train Epoch: 29 [51200/60000 (85%)]\tLoss:1.422390\n",
            "[29] Test Loss: 0.3602, Accuracy: 89.79%\n",
            "Train Epoch: 30 [0/60000 (0%)]\tLoss:1.177676\n",
            "Train Epoch: 30 [12800/60000 (21%)]\tLoss:1.470508\n",
            "Train Epoch: 30 [25600/60000 (43%)]\tLoss:1.266957\n",
            "Train Epoch: 30 [38400/60000 (64%)]\tLoss:1.215897\n",
            "Train Epoch: 30 [51200/60000 (85%)]\tLoss:1.425659\n",
            "[30] Test Loss: 0.3430, Accuracy: 89.17%\n",
            "Train Epoch: 31 [0/60000 (0%)]\tLoss:0.918470\n",
            "Train Epoch: 31 [12800/60000 (21%)]\tLoss:1.104733\n",
            "Train Epoch: 31 [25600/60000 (43%)]\tLoss:1.038169\n",
            "Train Epoch: 31 [38400/60000 (64%)]\tLoss:1.492759\n",
            "Train Epoch: 31 [51200/60000 (85%)]\tLoss:1.282183\n",
            "[31] Test Loss: 0.3440, Accuracy: 89.92%\n",
            "Train Epoch: 32 [0/60000 (0%)]\tLoss:1.468759\n",
            "Train Epoch: 32 [12800/60000 (21%)]\tLoss:1.557549\n",
            "Train Epoch: 32 [25600/60000 (43%)]\tLoss:1.254862\n",
            "Train Epoch: 32 [38400/60000 (64%)]\tLoss:1.302860\n",
            "Train Epoch: 32 [51200/60000 (85%)]\tLoss:1.262776\n",
            "[32] Test Loss: 0.3382, Accuracy: 89.72%\n",
            "Train Epoch: 33 [0/60000 (0%)]\tLoss:1.093378\n",
            "Train Epoch: 33 [12800/60000 (21%)]\tLoss:1.239019\n",
            "Train Epoch: 33 [25600/60000 (43%)]\tLoss:1.309623\n",
            "Train Epoch: 33 [38400/60000 (64%)]\tLoss:1.108216\n",
            "Train Epoch: 33 [51200/60000 (85%)]\tLoss:0.763104\n",
            "[33] Test Loss: 0.3521, Accuracy: 90.04%\n",
            "Train Epoch: 34 [0/60000 (0%)]\tLoss:1.280593\n",
            "Train Epoch: 34 [12800/60000 (21%)]\tLoss:1.287170\n",
            "Train Epoch: 34 [25600/60000 (43%)]\tLoss:1.338509\n",
            "Train Epoch: 34 [38400/60000 (64%)]\tLoss:1.156136\n",
            "Train Epoch: 34 [51200/60000 (85%)]\tLoss:1.078834\n",
            "[34] Test Loss: 0.3590, Accuracy: 89.55%\n",
            "Train Epoch: 35 [0/60000 (0%)]\tLoss:1.423205\n",
            "Train Epoch: 35 [12800/60000 (21%)]\tLoss:1.170689\n",
            "Train Epoch: 35 [25600/60000 (43%)]\tLoss:1.271117\n",
            "Train Epoch: 35 [38400/60000 (64%)]\tLoss:1.005182\n",
            "Train Epoch: 35 [51200/60000 (85%)]\tLoss:1.583158\n",
            "[35] Test Loss: 0.3321, Accuracy: 89.74%\n",
            "Train Epoch: 36 [0/60000 (0%)]\tLoss:0.983212\n",
            "Train Epoch: 36 [12800/60000 (21%)]\tLoss:1.290250\n",
            "Train Epoch: 36 [25600/60000 (43%)]\tLoss:1.280956\n",
            "Train Epoch: 36 [38400/60000 (64%)]\tLoss:1.310295\n",
            "Train Epoch: 36 [51200/60000 (85%)]\tLoss:1.193645\n",
            "[36] Test Loss: 0.3446, Accuracy: 89.89%\n",
            "Train Epoch: 37 [0/60000 (0%)]\tLoss:1.318835\n",
            "Train Epoch: 37 [12800/60000 (21%)]\tLoss:1.232528\n",
            "Train Epoch: 37 [25600/60000 (43%)]\tLoss:1.284550\n",
            "Train Epoch: 37 [38400/60000 (64%)]\tLoss:1.345378\n",
            "Train Epoch: 37 [51200/60000 (85%)]\tLoss:1.398010\n",
            "[37] Test Loss: 0.3369, Accuracy: 89.60%\n",
            "Train Epoch: 38 [0/60000 (0%)]\tLoss:1.370654\n",
            "Train Epoch: 38 [12800/60000 (21%)]\tLoss:1.223584\n",
            "Train Epoch: 38 [25600/60000 (43%)]\tLoss:1.214056\n",
            "Train Epoch: 38 [38400/60000 (64%)]\tLoss:1.292173\n",
            "Train Epoch: 38 [51200/60000 (85%)]\tLoss:1.394193\n",
            "[38] Test Loss: 0.3281, Accuracy: 90.32%\n",
            "Train Epoch: 39 [0/60000 (0%)]\tLoss:1.027100\n",
            "Train Epoch: 39 [12800/60000 (21%)]\tLoss:1.092042\n",
            "Train Epoch: 39 [25600/60000 (43%)]\tLoss:1.437955\n",
            "Train Epoch: 39 [38400/60000 (64%)]\tLoss:1.103579\n",
            "Train Epoch: 39 [51200/60000 (85%)]\tLoss:1.074913\n",
            "[39] Test Loss: 0.3140, Accuracy: 90.10%\n",
            "Train Epoch: 40 [0/60000 (0%)]\tLoss:1.070291\n",
            "Train Epoch: 40 [12800/60000 (21%)]\tLoss:1.260629\n",
            "Train Epoch: 40 [25600/60000 (43%)]\tLoss:1.149572\n",
            "Train Epoch: 40 [38400/60000 (64%)]\tLoss:1.189211\n",
            "Train Epoch: 40 [51200/60000 (85%)]\tLoss:1.319034\n",
            "[40] Test Loss: 0.3281, Accuracy: 89.70%\n"
          ]
        }
      ]
    }
  ]
}